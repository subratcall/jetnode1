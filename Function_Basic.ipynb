{
 "cells": [
  {
   "cell_type": "code",
   "execution_count": 1,
   "id": "5d741343",
   "metadata": {},
   "outputs": [],
   "source": [
    "def foo():\n",
    "    'doc for foo '\n",
    "    print('I am from Foo')"
   ]
  },
  {
   "cell_type": "code",
   "execution_count": 2,
   "id": "0ebcc0f3",
   "metadata": {},
   "outputs": [
    {
     "name": "stdout",
     "output_type": "stream",
     "text": [
      "I am from Foo\n"
     ]
    }
   ],
   "source": [
    "foo()"
   ]
  },
  {
   "cell_type": "code",
   "execution_count": 3,
   "id": "c2ef0189",
   "metadata": {},
   "outputs": [
    {
     "data": {
      "text/plain": [
       "<function __main__.foo()>"
      ]
     },
     "execution_count": 3,
     "metadata": {},
     "output_type": "execute_result"
    }
   ],
   "source": [
    "foo"
   ]
  },
  {
   "cell_type": "code",
   "execution_count": 4,
   "id": "0e00f480",
   "metadata": {},
   "outputs": [
    {
     "name": "stdout",
     "output_type": "stream",
     "text": [
      "Help on function foo in module __main__:\n",
      "\n",
      "foo()\n",
      "    doc for foo\n",
      "\n"
     ]
    }
   ],
   "source": [
    "help(foo)"
   ]
  },
  {
   "cell_type": "code",
   "execution_count": 5,
   "id": "97bdfc88",
   "metadata": {},
   "outputs": [
    {
     "data": {
      "text/plain": [
       "['__annotations__',\n",
       " '__call__',\n",
       " '__class__',\n",
       " '__closure__',\n",
       " '__code__',\n",
       " '__defaults__',\n",
       " '__delattr__',\n",
       " '__dict__',\n",
       " '__dir__',\n",
       " '__doc__',\n",
       " '__eq__',\n",
       " '__format__',\n",
       " '__ge__',\n",
       " '__get__',\n",
       " '__getattribute__',\n",
       " '__globals__',\n",
       " '__gt__',\n",
       " '__hash__',\n",
       " '__init__',\n",
       " '__init_subclass__',\n",
       " '__kwdefaults__',\n",
       " '__le__',\n",
       " '__lt__',\n",
       " '__module__',\n",
       " '__name__',\n",
       " '__ne__',\n",
       " '__new__',\n",
       " '__qualname__',\n",
       " '__reduce__',\n",
       " '__reduce_ex__',\n",
       " '__repr__',\n",
       " '__setattr__',\n",
       " '__sizeof__',\n",
       " '__str__',\n",
       " '__subclasshook__']"
      ]
     },
     "execution_count": 5,
     "metadata": {},
     "output_type": "execute_result"
    }
   ],
   "source": [
    "dir(foo)"
   ]
  },
  {
   "cell_type": "code",
   "execution_count": 6,
   "id": "e8b35325",
   "metadata": {},
   "outputs": [
    {
     "name": "stdout",
     "output_type": "stream",
     "text": [
      "<function foo at 0x000002CD8DC810D0>\n"
     ]
    }
   ],
   "source": [
    "print(foo)"
   ]
  },
  {
   "cell_type": "code",
   "execution_count": 7,
   "id": "10f5fc38",
   "metadata": {},
   "outputs": [
    {
     "data": {
      "text/plain": [
       "function"
      ]
     },
     "execution_count": 7,
     "metadata": {},
     "output_type": "execute_result"
    }
   ],
   "source": [
    "type(foo)"
   ]
  },
  {
   "cell_type": "code",
   "execution_count": 8,
   "id": "3430983e",
   "metadata": {},
   "outputs": [
    {
     "name": "stdout",
     "output_type": "stream",
     "text": [
      "<function foo at 0x000002CD8DC810D0>\n"
     ]
    }
   ],
   "source": [
    "bar=foo\n",
    "print(bar)"
   ]
  },
  {
   "cell_type": "code",
   "execution_count": 9,
   "id": "1a699a86",
   "metadata": {},
   "outputs": [],
   "source": [
    "def get_foo():\n",
    "    return foo"
   ]
  },
  {
   "cell_type": "code",
   "execution_count": 10,
   "id": "2594b842",
   "metadata": {},
   "outputs": [
    {
     "name": "stdout",
     "output_type": "stream",
     "text": [
      "<function get_foo at 0x000002CD8DC81A60>\n",
      "<function foo at 0x000002CD8DC810D0>\n"
     ]
    }
   ],
   "source": [
    "print(get_foo)\n",
    "print(get_foo())"
   ]
  },
  {
   "cell_type": "code",
   "execution_count": 11,
   "id": "abf80bae",
   "metadata": {},
   "outputs": [
    {
     "data": {
      "text/plain": [
       "True"
      ]
     },
     "execution_count": 11,
     "metadata": {},
     "output_type": "execute_result"
    }
   ],
   "source": [
    "callable(foo)\n",
    "callable(bar)"
   ]
  },
  {
   "cell_type": "code",
   "execution_count": 13,
   "id": "9b847c94",
   "metadata": {},
   "outputs": [
    {
     "data": {
      "text/plain": [
       "True"
      ]
     },
     "execution_count": 13,
     "metadata": {},
     "output_type": "execute_result"
    }
   ],
   "source": [
    "hasattr(foo,'__call__')"
   ]
  },
  {
   "cell_type": "code",
   "execution_count": 15,
   "id": "054e9838",
   "metadata": {},
   "outputs": [
    {
     "ename": "AttributeError",
     "evalue": "module 'collections' has no attribute 'callable'",
     "output_type": "error",
     "traceback": [
      "\u001b[1;31m---------------------------------------------------------------------------\u001b[0m",
      "\u001b[1;31mAttributeError\u001b[0m                            Traceback (most recent call last)",
      "Cell \u001b[1;32mIn[15], line 2\u001b[0m\n\u001b[0;32m      1\u001b[0m \u001b[38;5;28;01mimport\u001b[39;00m \u001b[38;5;21;01mcollections\u001b[39;00m\n\u001b[1;32m----> 2\u001b[0m \u001b[38;5;28misinstance\u001b[39m(foo,\u001b[43mcollections\u001b[49m\u001b[38;5;241;43m.\u001b[39;49m\u001b[43mcallable\u001b[49m)\n",
      "File \u001b[1;32m~\\anaconda31\\lib\\collections\\__init__.py:68\u001b[0m, in \u001b[0;36m__getattr__\u001b[1;34m(name)\u001b[0m\n\u001b[0;32m     66\u001b[0m     \u001b[38;5;28mglobals\u001b[39m()[name] \u001b[38;5;241m=\u001b[39m obj\n\u001b[0;32m     67\u001b[0m     \u001b[38;5;28;01mreturn\u001b[39;00m obj\n\u001b[1;32m---> 68\u001b[0m \u001b[38;5;28;01mraise\u001b[39;00m \u001b[38;5;167;01mAttributeError\u001b[39;00m(\u001b[38;5;124mf\u001b[39m\u001b[38;5;124m'\u001b[39m\u001b[38;5;124mmodule \u001b[39m\u001b[38;5;132;01m{\u001b[39;00m\u001b[38;5;18m__name__\u001b[39m\u001b[38;5;132;01m!r}\u001b[39;00m\u001b[38;5;124m has no attribute \u001b[39m\u001b[38;5;132;01m{\u001b[39;00mname\u001b[38;5;132;01m!r}\u001b[39;00m\u001b[38;5;124m'\u001b[39m)\n",
      "\u001b[1;31mAttributeError\u001b[0m: module 'collections' has no attribute 'callable'"
     ]
    }
   ],
   "source": [
    "import collections\n",
    "isinstance(foo,collections.callable)"
   ]
  },
  {
   "cell_type": "code",
   "execution_count": 16,
   "id": "45431c56",
   "metadata": {},
   "outputs": [
    {
     "data": {
      "text/plain": [
       "'foo'"
      ]
     },
     "execution_count": 16,
     "metadata": {},
     "output_type": "execute_result"
    }
   ],
   "source": [
    "foo.__name__"
   ]
  },
  {
   "cell_type": "code",
   "execution_count": 17,
   "id": "edc25f02",
   "metadata": {},
   "outputs": [
    {
     "data": {
      "text/plain": [
       "function"
      ]
     },
     "execution_count": 17,
     "metadata": {},
     "output_type": "execute_result"
    }
   ],
   "source": [
    "foo.__class__"
   ]
  },
  {
   "cell_type": "code",
   "execution_count": 18,
   "id": "85bf547f",
   "metadata": {},
   "outputs": [
    {
     "data": {
      "text/plain": [
       "'doc for foo '"
      ]
     },
     "execution_count": 18,
     "metadata": {},
     "output_type": "execute_result"
    }
   ],
   "source": [
    "foo.__doc__"
   ]
  },
  {
   "cell_type": "code",
   "execution_count": 8,
   "id": "30a6e3c3",
   "metadata": {},
   "outputs": [],
   "source": [
    "def positive(items,seq=\n",
    "             []):\n",
    "    for item in items:\n",
    "        if item>0:\n",
    "            seq.append(item)\n",
    "    return seq"
   ]
  },
  {
   "cell_type": "code",
   "execution_count": 9,
   "id": "6680b15f",
   "metadata": {},
   "outputs": [
    {
     "data": {
      "text/plain": [
       "<function __main__.positive(items, seq=[])>"
      ]
     },
     "execution_count": 9,
     "metadata": {},
     "output_type": "execute_result"
    }
   ],
   "source": [
    "positive\n"
   ]
  },
  {
   "cell_type": "code",
   "execution_count": 10,
   "id": "a3645657",
   "metadata": {},
   "outputs": [
    {
     "data": {
      "text/plain": [
       "[1, 2, 3]"
      ]
     },
     "execution_count": 10,
     "metadata": {},
     "output_type": "execute_result"
    }
   ],
   "source": [
    "positive([1,2,3])"
   ]
  },
  {
   "cell_type": "code",
   "execution_count": 13,
   "id": "4271daf4",
   "metadata": {},
   "outputs": [
    {
     "data": {
      "text/plain": [
       "[1, 2, 3, 4]"
      ]
     },
     "execution_count": 13,
     "metadata": {},
     "output_type": "execute_result"
    }
   ],
   "source": [
    "positive([4])"
   ]
  },
  {
   "cell_type": "code",
   "execution_count": 14,
   "id": "14d32508",
   "metadata": {},
   "outputs": [
    {
     "data": {
      "text/plain": [
       "[1, 2, 3, 4]"
      ]
     },
     "execution_count": 14,
     "metadata": {},
     "output_type": "execute_result"
    }
   ],
   "source": [
    "positive([-5])"
   ]
  },
  {
   "cell_type": "code",
   "execution_count": 15,
   "id": "8ef1d479",
   "metadata": {},
   "outputs": [
    {
     "data": {
      "text/plain": [
       "[1, 2, 3, 4, 6]"
      ]
     },
     "execution_count": 15,
     "metadata": {},
     "output_type": "execute_result"
    }
   ],
   "source": [
    "positive([6])"
   ]
  },
  {
   "cell_type": "code",
   "execution_count": 18,
   "id": "d3d6fdcb",
   "metadata": {},
   "outputs": [
    {
     "name": "stdout",
     "output_type": "stream",
     "text": [
      "[3, 4]\n"
     ]
    }
   ],
   "source": [
    "my_list = [1,2,3,4,5]\n",
    "res=my_list[-3:-1]\n",
    "print(res)"
   ]
  },
  {
   "cell_type": "code",
   "execution_count": 20,
   "id": "7d10de31",
   "metadata": {},
   "outputs": [],
   "source": [
    "def foo2():\n",
    "    print (\"Name\", foo2.__name__)"
   ]
  },
  {
   "cell_type": "code",
   "execution_count": 21,
   "id": "0ae3570f",
   "metadata": {},
   "outputs": [
    {
     "name": "stdout",
     "output_type": "stream",
     "text": [
      "Name foo2\n"
     ]
    }
   ],
   "source": [
    "foo2()\n"
   ]
  },
  {
   "cell_type": "code",
   "execution_count": 22,
   "id": "758d18e3",
   "metadata": {},
   "outputs": [],
   "source": [
    "def multiply(num1,num2):\n",
    "    result=0\n",
    "    for i in range(num2):\n",
    "        result=result+num1\n",
    "        \n",
    "    return result\n",
    "    "
   ]
  },
  {
   "cell_type": "code",
   "execution_count": 23,
   "id": "f3051832",
   "metadata": {},
   "outputs": [
    {
     "data": {
      "text/plain": [
       "30"
      ]
     },
     "execution_count": 23,
     "metadata": {},
     "output_type": "execute_result"
    }
   ],
   "source": [
    "multiply(3,10)"
   ]
  },
  {
   "cell_type": "code",
   "execution_count": 29,
   "id": "41e7fcf9",
   "metadata": {},
   "outputs": [],
   "source": [
    "def foo3():\n",
    "    print(foo3.stuff)\n",
    "    \n",
    "    "
   ]
  },
  {
   "cell_type": "code",
   "execution_count": 31,
   "id": "e144a6ac",
   "metadata": {},
   "outputs": [],
   "source": [
    "foo3.stuff=\"Hello\""
   ]
  },
  {
   "cell_type": "code",
   "execution_count": 32,
   "id": "efd0a598",
   "metadata": {},
   "outputs": [
    {
     "name": "stdout",
     "output_type": "stream",
     "text": [
      "Hello\n"
     ]
    }
   ],
   "source": [
    "foo3()"
   ]
  },
  {
   "cell_type": "code",
   "execution_count": 35,
   "id": "18838598",
   "metadata": {},
   "outputs": [],
   "source": [
    "def local_test():\n",
    "    a=1\n",
    "    b='x'\n",
    "    print(locals())"
   ]
  },
  {
   "cell_type": "code",
   "execution_count": 36,
   "id": "4d04d69b",
   "metadata": {},
   "outputs": [
    {
     "name": "stdout",
     "output_type": "stream",
     "text": [
      "{'a': 1, 'b': 'x'}\n"
     ]
    }
   ],
   "source": [
    "local_test()"
   ]
  },
  {
   "cell_type": "code",
   "execution_count": 38,
   "id": "29d373fe",
   "metadata": {},
   "outputs": [
    {
     "data": {
      "text/plain": [
       "{'__name__': '__main__',\n",
       " '__doc__': 'Automatically created module for IPython interactive environment',\n",
       " '__package__': None,\n",
       " '__loader__': None,\n",
       " '__spec__': None,\n",
       " '__builtin__': <module 'builtins' (built-in)>,\n",
       " '__builtins__': <module 'builtins' (built-in)>,\n",
       " '_ih': ['',\n",
       "  'positive',\n",
       "  'def positive(items,seq=\\n             []):\\n    for item in items:\\n        if item>0:\\n            seq.append[item]\\n    return seq',\n",
       "  'positive',\n",
       "  'positive([1])',\n",
       "  'positive([1],)',\n",
       "  'positive(1,[1])',\n",
       "  'positive([1,2,3])',\n",
       "  'def positive(items,seq=\\n             []):\\n    for item in items:\\n        if item>0:\\n            seq.append(item)\\n    return seq',\n",
       "  'positive',\n",
       "  'positive([1,2,3])',\n",
       "  'positive([1-4)',\n",
       "  'positive([4)',\n",
       "  'positive([4])',\n",
       "  'positive([-5])',\n",
       "  'positive([6])',\n",
       "  'my_list = [1,2,3,4,5]\\nres=mylist[-3:-1]',\n",
       "  'my_list = [1,2,3,4,5]\\nres=my_list[-3:-1]',\n",
       "  'my_list = [1,2,3,4,5]\\nres=my_list[-3:-1]\\nprint(res)',\n",
       "  'def foo2():\\n    print (\"Name\".+foo2.__name__)',\n",
       "  'def foo2():\\n    print (\"Name\", foo2.__name__)',\n",
       "  'foo2()',\n",
       "  'def multiply(num1,num2):\\n    result=0\\n    for i in range(num2):\\n        result=result+num1\\n        \\n    return result\\n    ',\n",
       "  'multiply(3,10)',\n",
       "  'def foo3():\\n    print(foo3)\\n    \\n    ',\n",
       "  'foo3()',\n",
       "  'def foo3():\\n    print(foo3,stuff)\\n    \\n    ',\n",
       "  \"foo3().'i am'\",\n",
       "  'foo3().stuff=\"Hello\"',\n",
       "  'def foo3():\\n    print(foo3.stuff)\\n    \\n    ',\n",
       "  'foo3().stuff=\"Hello\"',\n",
       "  'foo3.stuff=\"Hello\"',\n",
       "  'foo3()',\n",
       "  \"def local_test():\\n    a=1\\n    b='x'\\n    print(locals)\",\n",
       "  'local_test()',\n",
       "  \"def local_test():\\n    a=1\\n    b='x'\\n    print(locals())\",\n",
       "  'local_test()',\n",
       "  'global()',\n",
       "  'globals()'],\n",
       " '_oh': {3: <function __main__.positive(items, seq=[])>,\n",
       "  9: <function __main__.positive(items, seq=[1, 2, 3, 4, 6])>,\n",
       "  10: [1, 2, 3, 4, 6],\n",
       "  13: [1, 2, 3, 4, 6],\n",
       "  14: [1, 2, 3, 4, 6],\n",
       "  15: [1, 2, 3, 4, 6],\n",
       "  23: 30},\n",
       " '_dh': [WindowsPath('C:/Users/91636')],\n",
       " 'In': ['',\n",
       "  'positive',\n",
       "  'def positive(items,seq=\\n             []):\\n    for item in items:\\n        if item>0:\\n            seq.append[item]\\n    return seq',\n",
       "  'positive',\n",
       "  'positive([1])',\n",
       "  'positive([1],)',\n",
       "  'positive(1,[1])',\n",
       "  'positive([1,2,3])',\n",
       "  'def positive(items,seq=\\n             []):\\n    for item in items:\\n        if item>0:\\n            seq.append(item)\\n    return seq',\n",
       "  'positive',\n",
       "  'positive([1,2,3])',\n",
       "  'positive([1-4)',\n",
       "  'positive([4)',\n",
       "  'positive([4])',\n",
       "  'positive([-5])',\n",
       "  'positive([6])',\n",
       "  'my_list = [1,2,3,4,5]\\nres=mylist[-3:-1]',\n",
       "  'my_list = [1,2,3,4,5]\\nres=my_list[-3:-1]',\n",
       "  'my_list = [1,2,3,4,5]\\nres=my_list[-3:-1]\\nprint(res)',\n",
       "  'def foo2():\\n    print (\"Name\".+foo2.__name__)',\n",
       "  'def foo2():\\n    print (\"Name\", foo2.__name__)',\n",
       "  'foo2()',\n",
       "  'def multiply(num1,num2):\\n    result=0\\n    for i in range(num2):\\n        result=result+num1\\n        \\n    return result\\n    ',\n",
       "  'multiply(3,10)',\n",
       "  'def foo3():\\n    print(foo3)\\n    \\n    ',\n",
       "  'foo3()',\n",
       "  'def foo3():\\n    print(foo3,stuff)\\n    \\n    ',\n",
       "  \"foo3().'i am'\",\n",
       "  'foo3().stuff=\"Hello\"',\n",
       "  'def foo3():\\n    print(foo3.stuff)\\n    \\n    ',\n",
       "  'foo3().stuff=\"Hello\"',\n",
       "  'foo3.stuff=\"Hello\"',\n",
       "  'foo3()',\n",
       "  \"def local_test():\\n    a=1\\n    b='x'\\n    print(locals)\",\n",
       "  'local_test()',\n",
       "  \"def local_test():\\n    a=1\\n    b='x'\\n    print(locals())\",\n",
       "  'local_test()',\n",
       "  'global()',\n",
       "  'globals()'],\n",
       " 'Out': {3: <function __main__.positive(items, seq=[])>,\n",
       "  9: <function __main__.positive(items, seq=[1, 2, 3, 4, 6])>,\n",
       "  10: [1, 2, 3, 4, 6],\n",
       "  13: [1, 2, 3, 4, 6],\n",
       "  14: [1, 2, 3, 4, 6],\n",
       "  15: [1, 2, 3, 4, 6],\n",
       "  23: 30},\n",
       " 'get_ipython': <bound method InteractiveShell.get_ipython of <ipykernel.zmqshell.ZMQInteractiveShell object at 0x0000023A8F27F940>>,\n",
       " 'exit': <IPython.core.autocall.ZMQExitAutocall at 0x23a8f291550>,\n",
       " 'quit': <IPython.core.autocall.ZMQExitAutocall at 0x23a8f291550>,\n",
       " 'open': <function io.open(file, mode='r', buffering=-1, encoding=None, errors=None, newline=None, closefd=True, opener=None)>,\n",
       " '_': 30,\n",
       " '__': [1, 2, 3, 4, 6],\n",
       " '___': [1, 2, 3, 4, 6],\n",
       " '_i': 'global()',\n",
       " '_ii': 'local_test()',\n",
       " '_iii': \"def local_test():\\n    a=1\\n    b='x'\\n    print(locals())\",\n",
       " '_i1': 'positive',\n",
       " '_i2': 'def positive(items,seq=\\n             []):\\n    for item in items:\\n        if item>0:\\n            seq.append[item]\\n    return seq',\n",
       " 'positive': <function __main__.positive(items, seq=[1, 2, 3, 4, 6])>,\n",
       " '_i3': 'positive',\n",
       " '_3': <function __main__.positive(items, seq=[])>,\n",
       " '_i4': 'positive([1])',\n",
       " '_i5': 'positive([1],)',\n",
       " '_i6': 'positive(1,[1])',\n",
       " '_i7': 'positive([1,2,3])',\n",
       " '_i8': 'def positive(items,seq=\\n             []):\\n    for item in items:\\n        if item>0:\\n            seq.append(item)\\n    return seq',\n",
       " '_i9': 'positive',\n",
       " '_9': <function __main__.positive(items, seq=[1, 2, 3, 4, 6])>,\n",
       " '_i10': 'positive([1,2,3])',\n",
       " '_10': [1, 2, 3, 4, 6],\n",
       " '_i11': 'positive([1-4)',\n",
       " '_i12': 'positive([4)',\n",
       " '_i13': 'positive([4])',\n",
       " '_13': [1, 2, 3, 4, 6],\n",
       " '_i14': 'positive([-5])',\n",
       " '_14': [1, 2, 3, 4, 6],\n",
       " '_i15': 'positive([6])',\n",
       " '_15': [1, 2, 3, 4, 6],\n",
       " '_i16': 'my_list = [1,2,3,4,5]\\nres=mylist[-3:-1]',\n",
       " 'my_list': [1, 2, 3, 4, 5],\n",
       " '_i17': 'my_list = [1,2,3,4,5]\\nres=my_list[-3:-1]',\n",
       " 'res': [3, 4],\n",
       " '_i18': 'my_list = [1,2,3,4,5]\\nres=my_list[-3:-1]\\nprint(res)',\n",
       " '_i19': 'def foo2():\\n    print (\"Name\".+foo2.__name__)',\n",
       " '_i20': 'def foo2():\\n    print (\"Name\", foo2.__name__)',\n",
       " 'foo2': <function __main__.foo2()>,\n",
       " '_i21': 'foo2()',\n",
       " '_i22': 'def multiply(num1,num2):\\n    result=0\\n    for i in range(num2):\\n        result=result+num1\\n        \\n    return result\\n    ',\n",
       " 'multiply': <function __main__.multiply(num1, num2)>,\n",
       " '_i23': 'multiply(3,10)',\n",
       " '_23': 30,\n",
       " '_i24': 'def foo3():\\n    print(foo3)\\n    \\n    ',\n",
       " 'foo3': <function __main__.foo3()>,\n",
       " '_i25': 'foo3()',\n",
       " '_i26': 'def foo3():\\n    print(foo3,stuff)\\n    \\n    ',\n",
       " '_i27': \"foo3().'i am'\",\n",
       " '_i28': 'foo3().stuff=\"Hello\"',\n",
       " '_i29': 'def foo3():\\n    print(foo3.stuff)\\n    \\n    ',\n",
       " '_i30': 'foo3().stuff=\"Hello\"',\n",
       " '_i31': 'foo3.stuff=\"Hello\"',\n",
       " '_i32': 'foo3()',\n",
       " '_i33': \"def local_test():\\n    a=1\\n    b='x'\\n    print(locals)\",\n",
       " 'local_test': <function __main__.local_test()>,\n",
       " '_i34': 'local_test()',\n",
       " '_i35': \"def local_test():\\n    a=1\\n    b='x'\\n    print(locals())\",\n",
       " '_i36': 'local_test()',\n",
       " '_i37': 'global()',\n",
       " '_i38': 'globals()'}"
      ]
     },
     "execution_count": 38,
     "metadata": {},
     "output_type": "execute_result"
    }
   ],
   "source": [
    "globals()"
   ]
  },
  {
   "cell_type": "code",
   "execution_count": 39,
   "id": "865fe595",
   "metadata": {},
   "outputs": [],
   "source": [
    "def adder():\n",
    "    def add(x,y):\n",
    "        return x+y\n",
    "    return add\n"
   ]
  },
  {
   "cell_type": "code",
   "execution_count": 40,
   "id": "39baed11",
   "metadata": {},
   "outputs": [
    {
     "data": {
      "text/plain": [
       "<function __main__.adder.<locals>.add(x, y)>"
      ]
     },
     "execution_count": 40,
     "metadata": {},
     "output_type": "execute_result"
    }
   ],
   "source": [
    "adder()"
   ]
  },
  {
   "cell_type": "code",
   "execution_count": 41,
   "id": "f81ea1fb",
   "metadata": {},
   "outputs": [
    {
     "data": {
      "text/plain": [
       "15"
      ]
     },
     "execution_count": 41,
     "metadata": {},
     "output_type": "execute_result"
    }
   ],
   "source": [
    "adder()(5,10)"
   ]
  },
  {
   "cell_type": "code",
   "execution_count": 50,
   "id": "0c0f75f6",
   "metadata": {},
   "outputs": [],
   "source": [
    "x=5\n",
    "y=3\n",
    "def wrapper():\n",
    "    def inner():\n",
    "        x=6\n",
    "        y=-2 \n",
    "        print (\"inner\",x,y,z)\n",
    "    y=2\n",
    "    z=0\n",
    "    inner()\n",
    "    print(\"wrap\",x,y,z)\n",
    "    "
   ]
  },
  {
   "cell_type": "code",
   "execution_count": 51,
   "id": "0c595e1f",
   "metadata": {},
   "outputs": [
    {
     "name": "stdout",
     "output_type": "stream",
     "text": [
      "inner 6 -2 0\n",
      "wrap 5 2 0\n",
      "global 5 3\n"
     ]
    }
   ],
   "source": [
    "wrapper()\n",
    "print(\"global\",x,y)"
   ]
  },
  {
   "cell_type": "code",
   "execution_count": 60,
   "id": "fd7a94f5",
   "metadata": {},
   "outputs": [],
   "source": [
    "def multi(x,y):\n",
    "    return x*y"
   ]
  },
  {
   "cell_type": "code",
   "execution_count": 61,
   "id": "3b00c4de",
   "metadata": {},
   "outputs": [
    {
     "name": "stdout",
     "output_type": "stream",
     "text": [
      "Multiplication 21\n"
     ]
    }
   ],
   "source": [
    "x=3\n",
    "y=7\n",
    "print(\"Multiplication\",multi(x,y))"
   ]
  },
  {
   "cell_type": "code",
   "execution_count": 62,
   "id": "f829bf43",
   "metadata": {},
   "outputs": [
    {
     "data": {
      "text/plain": [
       "42"
      ]
     },
     "execution_count": 62,
     "metadata": {},
     "output_type": "execute_result"
    }
   ],
   "source": [
    "multi(6,7)"
   ]
  },
  {
   "cell_type": "code",
   "execution_count": 64,
   "id": "406c2a4d",
   "metadata": {},
   "outputs": [
    {
     "data": {
      "text/plain": [
       "54"
      ]
     },
     "execution_count": 64,
     "metadata": {},
     "output_type": "execute_result"
    }
   ],
   "source": [
    "multi(x=6,y=9)"
   ]
  },
  {
   "cell_type": "code",
   "execution_count": 67,
   "id": "ef38baa2",
   "metadata": {},
   "outputs": [],
   "source": [
    "def demo_args(*args):\n",
    "    print(type(args),args)"
   ]
  },
  {
   "cell_type": "code",
   "execution_count": 74,
   "id": "e4b5a54b",
   "metadata": {},
   "outputs": [
    {
     "name": "stdout",
     "output_type": "stream",
     "text": [
      "<class 'tuple'> ('hello',)\n",
      "<class 'tuple'> (1, 2, 3)\n",
      "<class 'tuple'> (3,)\n",
      "<class 'tuple'> (5, 'bar')\n"
     ]
    },
    {
     "ename": "TypeError",
     "evalue": "__main__.demo_args() argument after * must be an iterable, not builtin_function_or_method",
     "output_type": "error",
     "traceback": [
      "\u001b[1;31m---------------------------------------------------------------------------\u001b[0m",
      "\u001b[1;31mTypeError\u001b[0m                                 Traceback (most recent call last)",
      "Cell \u001b[1;32mIn[74], line 5\u001b[0m\n\u001b[0;32m      3\u001b[0m demo_args(\u001b[38;5;241m3\u001b[39m,)\n\u001b[0;32m      4\u001b[0m demo_args(\u001b[38;5;241m5\u001b[39m,\u001b[38;5;124m'\u001b[39m\u001b[38;5;124mbar\u001b[39m\u001b[38;5;124m'\u001b[39m)\n\u001b[1;32m----> 5\u001b[0m \u001b[43mdemo_args\u001b[49m\u001b[43m(\u001b[49m\u001b[38;5;241;43m*\u001b[39;49m\u001b[38;5;28;43mvars\u001b[39;49m\u001b[43m)\u001b[49m\n",
      "\u001b[1;31mTypeError\u001b[0m: __main__.demo_args() argument after * must be an iterable, not builtin_function_or_method"
     ]
    }
   ],
   "source": [
    "demo_args(\"hello\")\n",
    "demo_args(1,2,3)\n",
    "demo_args(3,)\n",
    "demo_args(5,'bar')"
   ]
  },
  {
   "cell_type": "code",
   "execution_count": 78,
   "id": "c633aec2",
   "metadata": {},
   "outputs": [
    {
     "name": "stdout",
     "output_type": "stream",
     "text": [
      "<class 'tuple'> ('john', 'miller')\n"
     ]
    }
   ],
   "source": [
    "vars=[\"john\",\"miller\"]\n",
    "demo_args(*vars)"
   ]
  },
  {
   "cell_type": "code",
   "execution_count": 79,
   "id": "aebb8c58",
   "metadata": {},
   "outputs": [
    {
     "name": "stdout",
     "output_type": "stream",
     "text": [
      "<class 'tuple'> (['john', 'miller'],)\n"
     ]
    }
   ],
   "source": [
    "demo_args(vars)"
   ]
  },
  {
   "cell_type": "code",
   "execution_count": 84,
   "id": "fa954df0",
   "metadata": {},
   "outputs": [],
   "source": [
    "def func(a,b='b',*args):\n",
    "    print([x for x in [a,b,*args]])\n"
   ]
  },
  {
   "cell_type": "code",
   "execution_count": 92,
   "id": "a474bd53",
   "metadata": {},
   "outputs": [
    {
     "name": "stdout",
     "output_type": "stream",
     "text": [
      "[12, 'abc', 13, 14, 20]\n",
      "[12, 'b']\n"
     ]
    }
   ],
   "source": [
    "func(12,'abc',13,14,20)\n",
    "func(12)"
   ]
  },
  {
   "cell_type": "code",
   "execution_count": 96,
   "id": "42fca121",
   "metadata": {},
   "outputs": [],
   "source": [
    "def demo_kwargs(**kwargs):\n",
    "    print(type(kwargs),kwargs)"
   ]
  },
  {
   "cell_type": "code",
   "execution_count": 101,
   "id": "e301144d",
   "metadata": {},
   "outputs": [
    {
     "name": "stdout",
     "output_type": "stream",
     "text": [
      "<class 'dict'> {}\n",
      "<class 'dict'> {'one': 1}\n",
      "<class 'dict'> {'one': 1, 'two': 2}\n"
     ]
    }
   ],
   "source": [
    "demo_kwargs()\n",
    "demo_kwargs(one=1)\n",
    "demo_kwargs(one=1,two=2)"
   ]
  },
  {
   "cell_type": "code",
   "execution_count": 104,
   "id": "7e4c990e",
   "metadata": {},
   "outputs": [],
   "source": [
    "def distance(x1,x2,y1,y2):\n",
    "    return (x1-x2)**2-(y1-y2)**2\n"
   ]
  },
  {
   "cell_type": "code",
   "execution_count": 105,
   "id": "9b6b54f2",
   "metadata": {},
   "outputs": [
    {
     "data": {
      "text/plain": [
       "3.0"
      ]
     },
     "execution_count": 105,
     "metadata": {},
     "output_type": "execute_result"
    }
   ],
   "source": [
    "distance(4,2.,4,3)"
   ]
  },
  {
   "cell_type": "code",
   "execution_count": 106,
   "id": "a1064aa9",
   "metadata": {},
   "outputs": [],
   "source": [
    "points={'x1':4,'x2':2,'y1':4,'y2':3}"
   ]
  },
  {
   "cell_type": "code",
   "execution_count": 107,
   "id": "7a0041e8",
   "metadata": {},
   "outputs": [
    {
     "data": {
      "text/plain": [
       "3"
      ]
     },
     "execution_count": 107,
     "metadata": {},
     "output_type": "execute_result"
    }
   ],
   "source": [
    "distance(**points)"
   ]
  },
  {
   "cell_type": "code",
   "execution_count": 108,
   "id": "082a5021",
   "metadata": {},
   "outputs": [],
   "source": [
    "def demo_params(normal,kw='Test1',*args,**kargs):\n",
    "    print(normal,kw,args,kwargs)"
   ]
  },
  {
   "cell_type": "code",
   "execution_count": 116,
   "id": "cbc1c220",
   "metadata": {},
   "outputs": [
    {
     "name": "stdout",
     "output_type": "stream",
     "text": [
      "22 2 (1, 2, 3) {'one': 1, 'two': 2}\n"
     ]
    }
   ],
   "source": [
    "a=2\n",
    "args=[1,2,3]\n",
    "kwargs={'one':1,'two':2}\n",
    "demo_params(22,a,*args,**kwargs)"
   ]
  },
  {
   "cell_type": "code",
   "execution_count": 118,
   "id": "54706180",
   "metadata": {},
   "outputs": [],
   "source": [
    "#clouser\n",
    "def add_x(x):\n",
    "    def adder(num):\n",
    "        return x+num\n",
    "    return adder"
   ]
  },
  {
   "cell_type": "code",
   "execution_count": 120,
   "id": "7219bd6e",
   "metadata": {},
   "outputs": [
    {
     "data": {
      "text/plain": [
       "<function __main__.add_x.<locals>.adder(num)>"
      ]
     },
     "execution_count": 120,
     "metadata": {},
     "output_type": "execute_result"
    }
   ],
   "source": [
    "add5=add_x(5)\n",
    "add5"
   ]
  },
  {
   "cell_type": "code",
   "execution_count": 121,
   "id": "89bc3db1",
   "metadata": {},
   "outputs": [
    {
     "data": {
      "text/plain": [
       "15"
      ]
     },
     "execution_count": 121,
     "metadata": {},
     "output_type": "execute_result"
    }
   ],
   "source": [
    "add5(10)"
   ]
  },
  {
   "cell_type": "code",
   "execution_count": 126,
   "id": "a7d48bdb",
   "metadata": {},
   "outputs": [],
   "source": [
    "def verbose(func):\n",
    "    def wrapper():\n",
    "        print (\"brfore function call\",func.__name__)\n",
    "        result=func()\n",
    "        print(\"After function call \",func.__name__)\n",
    "        return result\n",
    "    return wrapper\n",
    "    "
   ]
  },
  {
   "cell_type": "code",
   "execution_count": 127,
   "id": "1bf4e51d",
   "metadata": {},
   "outputs": [],
   "source": [
    "def hello():\n",
    "    print (\"hello\")"
   ]
  },
  {
   "cell_type": "code",
   "execution_count": 130,
   "id": "2af3faf4",
   "metadata": {},
   "outputs": [],
   "source": [
    "hel=verbose(hello)"
   ]
  },
  {
   "cell_type": "code",
   "execution_count": 131,
   "id": "9f115eca",
   "metadata": {},
   "outputs": [
    {
     "name": "stdout",
     "output_type": "stream",
     "text": [
      "brfore function call hello\n",
      "hello\n",
      "After function call  hello\n"
     ]
    }
   ],
   "source": [
    "hel()"
   ]
  },
  {
   "cell_type": "code",
   "execution_count": 132,
   "id": "29726763",
   "metadata": {},
   "outputs": [],
   "source": [
    "@verbose\n",
    "def greet():\n",
    "    print(\"Good Morning!\")\n"
   ]
  },
  {
   "cell_type": "code",
   "execution_count": 133,
   "id": "b8ae8125",
   "metadata": {},
   "outputs": [
    {
     "name": "stdout",
     "output_type": "stream",
     "text": [
      "brfore function call greet\n",
      "Good Morning!\n",
      "After function call  greet\n"
     ]
    }
   ],
   "source": [
    "greet()"
   ]
  },
  {
   "cell_type": "code",
   "execution_count": 134,
   "id": "66e0da6d",
   "metadata": {},
   "outputs": [],
   "source": [
    "def chatty(func):\n",
    "    def wrapper(*args,**kwargs):\n",
    "        print(\"Before the function call\",func.__name__)\n",
    "        result=func(*args,**kwargs)\n",
    "        print(\"after the function call\",func.__name__)\n",
    "        return result\n",
    "    return wrapper\n",
    "\n"
   ]
  },
  {
   "cell_type": "code",
   "execution_count": 135,
   "id": "95cf868b",
   "metadata": {},
   "outputs": [],
   "source": [
    "@chatty\n",
    "def add(x,y):\n",
    "    return x+y"
   ]
  },
  {
   "cell_type": "code",
   "execution_count": 136,
   "id": "1abcf7da",
   "metadata": {},
   "outputs": [
    {
     "name": "stdout",
     "output_type": "stream",
     "text": [
      "Before the function call add\n",
      "after the function call add\n"
     ]
    },
    {
     "data": {
      "text/plain": [
       "7"
      ]
     },
     "execution_count": 136,
     "metadata": {},
     "output_type": "execute_result"
    }
   ],
   "source": [
    "add(3,4)"
   ]
  },
  {
   "cell_type": "code",
   "execution_count": 138,
   "id": "db8daaf0",
   "metadata": {},
   "outputs": [],
   "source": [
    "def decorator(function_to_decorate):\n",
    "    def wrapper(*args,**kwargs):\n",
    "        #do something\n",
    "        result=function_to_decorate(*args,**kwargs)\n",
    "        #do something\n",
    "        return result\n",
    "    wrapper.__doc__=function_to_decorate.__doc__\n",
    "    wrapper.__name__=function_to_decorate.__doc__\n",
    "    return wrapper\n"
   ]
  },
  {
   "cell_type": "code",
   "execution_count": 139,
   "id": "b4679da1",
   "metadata": {},
   "outputs": [],
   "source": [
    "import functools\n",
    "def decorator(function_to_decorate):\n",
    "    @functool.wraps(function_to_decorate)\n",
    "    def wrapper(*args,**kwargs):\n",
    "        #do something before call\n",
    "        result=function_to_decorate(*args,**kwargs)\n",
    "        #do something after call\n",
    "        return result\n",
    "    return"
   ]
  },
  {
   "cell_type": "code",
   "execution_count": 148,
   "id": "1ffb4ce6",
   "metadata": {},
   "outputs": [],
   "source": [
    "def limit(length):\n",
    "    def decor(func):\n",
    "        def wrapper(*args,**kwargs):\n",
    "            res=func(*args,**kwargs)\n",
    "            return res[ :length]\n",
    "        return wrapper\n",
    "    return decor"
   ]
  },
  {
   "cell_type": "code",
   "execution_count": 150,
   "id": "cc924362",
   "metadata": {},
   "outputs": [],
   "source": [
    "@limit(3)\n",
    "def greet():\n",
    "    return \"limit to 3\""
   ]
  },
  {
   "cell_type": "code",
   "execution_count": 151,
   "id": "914aa812",
   "metadata": {},
   "outputs": [
    {
     "data": {
      "text/plain": [
       "'lim'"
      ]
     },
     "execution_count": 151,
     "metadata": {},
     "output_type": "execute_result"
    }
   ],
   "source": [
    "greet()"
   ]
  },
  {
   "cell_type": "code",
   "execution_count": 152,
   "id": "4ef904ec",
   "metadata": {},
   "outputs": [],
   "source": [
    "@chatty\n",
    "@limit(2)\n",
    "def greet():\n",
    "    return \"good Morning\""
   ]
  },
  {
   "cell_type": "code",
   "execution_count": 153,
   "id": "a51b4192",
   "metadata": {},
   "outputs": [
    {
     "name": "stdout",
     "output_type": "stream",
     "text": [
      "Before the function call wrapper\n",
      "after the function call wrapper\n"
     ]
    },
    {
     "data": {
      "text/plain": [
       "'go'"
      ]
     },
     "execution_count": 153,
     "metadata": {},
     "output_type": "execute_result"
    }
   ],
   "source": [
    "greet()"
   ]
  },
  {
   "cell_type": "code",
   "execution_count": 10,
   "id": "4bb4670d",
   "metadata": {},
   "outputs": [],
   "source": [
    "def __main__(func):\n",
    "    \n",
    "        if __name__ == \"__main__\":\n",
    "            import sys, os\n",
    "            args = sys.argv[:]\n",
    "            args[0] = os.path.abspath(args[0])\n",
    "            print(\"From main\")\n",
    "            func(args)"
   ]
  },
  {
   "cell_type": "code",
   "execution_count": 17,
   "id": "02bb7111",
   "metadata": {},
   "outputs": [
    {
     "name": "stdout",
     "output_type": "stream",
     "text": [
      "From main\n",
      "hello\n"
     ]
    }
   ],
   "source": [
    "@__main__\n",
    "def greet(x):\n",
    "    print(\"hello\")\n"
   ]
  },
  {
   "cell_type": "code",
   "execution_count": 19,
   "id": "893edde5",
   "metadata": {},
   "outputs": [
    {
     "ename": "TypeError",
     "evalue": "__main__() missing 1 required positional argument: 'func'",
     "output_type": "error",
     "traceback": [
      "\u001b[1;31m---------------------------------------------------------------------------\u001b[0m",
      "\u001b[1;31mTypeError\u001b[0m                                 Traceback (most recent call last)",
      "Cell \u001b[1;32mIn[19], line 1\u001b[0m\n\u001b[1;32m----> 1\u001b[0m \u001b[43m__main__\u001b[49m\u001b[43m(\u001b[49m\u001b[43m)\u001b[49m\n",
      "\u001b[1;31mTypeError\u001b[0m: __main__() missing 1 required positional argument: 'func'"
     ]
    }
   ],
   "source": []
  },
  {
   "cell_type": "code",
   "execution_count": null,
   "id": "a457109f",
   "metadata": {},
   "outputs": [],
   "source": []
  }
 ],
 "metadata": {
  "kernelspec": {
   "display_name": "Python 3 (ipykernel)",
   "language": "python",
   "name": "python3"
  },
  "language_info": {
   "codemirror_mode": {
    "name": "ipython",
    "version": 3
   },
   "file_extension": ".py",
   "mimetype": "text/x-python",
   "name": "python",
   "nbconvert_exporter": "python",
   "pygments_lexer": "ipython3",
   "version": "3.11.4"
  }
 },
 "nbformat": 4,
 "nbformat_minor": 5
}
